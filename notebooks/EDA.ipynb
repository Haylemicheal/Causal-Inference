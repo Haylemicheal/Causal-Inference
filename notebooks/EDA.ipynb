{
 "cells": [
  {
   "cell_type": "code",
   "execution_count": 43,
   "id": "40acf94d",
   "metadata": {},
   "outputs": [],
   "source": [
    "import sys, os, io\n",
    "sys.path.append(os.path.abspath(os.path.join('..')))"
   ]
  },
  {
   "cell_type": "code",
   "execution_count": 44,
   "id": "7b2254ce",
   "metadata": {},
   "outputs": [],
   "source": [
    "from scripts.dataloader import DataLoader\n",
    "from scripts.utils import Util"
   ]
  },
  {
   "cell_type": "code",
   "execution_count": 45,
   "id": "dea06e8a",
   "metadata": {},
   "outputs": [],
   "source": [
    "driver_locations_during_request = '../data/driver_locations_during_request.csv'\n",
    "nb = '../data/nb.csv'"
   ]
  },
  {
   "cell_type": "code",
   "execution_count": 46,
   "id": "b054ca05",
   "metadata": {},
   "outputs": [],
   "source": [
    "dataloader = DataLoader()"
   ]
  },
  {
   "cell_type": "code",
   "execution_count": 47,
   "id": "e45a326c",
   "metadata": {},
   "outputs": [],
   "source": [
    "# repo = 'https://github.com/Haylemicheal/Causal-Inference'\n",
    "# tag = 'raw-data'\n",
    "# driver_location_content = dataloader.load_from_dvc(driver_locations_during_request, repo, tag)"
   ]
  },
  {
   "cell_type": "code",
   "execution_count": 48,
   "id": "fb8a973b",
   "metadata": {},
   "outputs": [],
   "source": [
    "# nb_content = dataloader.load_from_dvc(nb, repo, tag)"
   ]
  },
  {
   "cell_type": "code",
   "execution_count": 49,
   "id": "27c8841c",
   "metadata": {},
   "outputs": [],
   "source": [
    "df_driver_loc = dataloader.read_csv(driver_locations_during_request)\n",
    "df_nb = dataloader.read_csv(nb)"
   ]
  },
  {
   "cell_type": "code",
   "execution_count": 50,
   "id": "a7634466",
   "metadata": {},
   "outputs": [
    {
     "data": {
      "text/html": [
       "<div>\n",
       "<style scoped>\n",
       "    .dataframe tbody tr th:only-of-type {\n",
       "        vertical-align: middle;\n",
       "    }\n",
       "\n",
       "    .dataframe tbody tr th {\n",
       "        vertical-align: top;\n",
       "    }\n",
       "\n",
       "    .dataframe thead th {\n",
       "        text-align: right;\n",
       "    }\n",
       "</style>\n",
       "<table border=\"1\" class=\"dataframe\">\n",
       "  <thead>\n",
       "    <tr style=\"text-align: right;\">\n",
       "      <th></th>\n",
       "      <th>id</th>\n",
       "      <th>order_id</th>\n",
       "      <th>driver_id</th>\n",
       "      <th>driver_action</th>\n",
       "      <th>lat</th>\n",
       "      <th>lng</th>\n",
       "      <th>created_at</th>\n",
       "      <th>updated_at</th>\n",
       "    </tr>\n",
       "  </thead>\n",
       "  <tbody>\n",
       "    <tr>\n",
       "      <th>0</th>\n",
       "      <td>1</td>\n",
       "      <td>392001</td>\n",
       "      <td>243828</td>\n",
       "      <td>accepted</td>\n",
       "      <td>6.602207</td>\n",
       "      <td>3.270465</td>\n",
       "      <td>NaN</td>\n",
       "      <td>NaN</td>\n",
       "    </tr>\n",
       "    <tr>\n",
       "      <th>1</th>\n",
       "      <td>2</td>\n",
       "      <td>392001</td>\n",
       "      <td>243588</td>\n",
       "      <td>rejected</td>\n",
       "      <td>6.592097</td>\n",
       "      <td>3.287445</td>\n",
       "      <td>NaN</td>\n",
       "      <td>NaN</td>\n",
       "    </tr>\n",
       "    <tr>\n",
       "      <th>2</th>\n",
       "      <td>3</td>\n",
       "      <td>392001</td>\n",
       "      <td>243830</td>\n",
       "      <td>rejected</td>\n",
       "      <td>6.596133</td>\n",
       "      <td>3.281784</td>\n",
       "      <td>NaN</td>\n",
       "      <td>NaN</td>\n",
       "    </tr>\n",
       "    <tr>\n",
       "      <th>3</th>\n",
       "      <td>4</td>\n",
       "      <td>392001</td>\n",
       "      <td>243539</td>\n",
       "      <td>rejected</td>\n",
       "      <td>6.596142</td>\n",
       "      <td>3.280526</td>\n",
       "      <td>NaN</td>\n",
       "      <td>NaN</td>\n",
       "    </tr>\n",
       "    <tr>\n",
       "      <th>4</th>\n",
       "      <td>5</td>\n",
       "      <td>392001</td>\n",
       "      <td>171653</td>\n",
       "      <td>rejected</td>\n",
       "      <td>6.609232</td>\n",
       "      <td>3.288800</td>\n",
       "      <td>NaN</td>\n",
       "      <td>NaN</td>\n",
       "    </tr>\n",
       "  </tbody>\n",
       "</table>\n",
       "</div>"
      ],
      "text/plain": [
       "   id  order_id  driver_id driver_action       lat       lng  created_at  \\\n",
       "0   1    392001     243828      accepted  6.602207  3.270465         NaN   \n",
       "1   2    392001     243588      rejected  6.592097  3.287445         NaN   \n",
       "2   3    392001     243830      rejected  6.596133  3.281784         NaN   \n",
       "3   4    392001     243539      rejected  6.596142  3.280526         NaN   \n",
       "4   5    392001     171653      rejected  6.609232  3.288800         NaN   \n",
       "\n",
       "   updated_at  \n",
       "0         NaN  \n",
       "1         NaN  \n",
       "2         NaN  \n",
       "3         NaN  \n",
       "4         NaN  "
      ]
     },
     "execution_count": 50,
     "metadata": {},
     "output_type": "execute_result"
    }
   ],
   "source": [
    "df_driver_loc.head(5)"
   ]
  },
  {
   "cell_type": "code",
   "execution_count": 51,
   "id": "9dade4e2",
   "metadata": {},
   "outputs": [
    {
     "data": {
      "text/html": [
       "<div>\n",
       "<style scoped>\n",
       "    .dataframe tbody tr th:only-of-type {\n",
       "        vertical-align: middle;\n",
       "    }\n",
       "\n",
       "    .dataframe tbody tr th {\n",
       "        vertical-align: top;\n",
       "    }\n",
       "\n",
       "    .dataframe thead th {\n",
       "        text-align: right;\n",
       "    }\n",
       "</style>\n",
       "<table border=\"1\" class=\"dataframe\">\n",
       "  <thead>\n",
       "    <tr style=\"text-align: right;\">\n",
       "      <th></th>\n",
       "      <th>Trip ID</th>\n",
       "      <th>Trip Origin</th>\n",
       "      <th>Trip Destination</th>\n",
       "      <th>Trip Start Time</th>\n",
       "      <th>Trip End Time</th>\n",
       "    </tr>\n",
       "  </thead>\n",
       "  <tbody>\n",
       "    <tr>\n",
       "      <th>0</th>\n",
       "      <td>391996</td>\n",
       "      <td>6.508813001668548,3.37740316890347</td>\n",
       "      <td>6.650969799999999,3.3450307</td>\n",
       "      <td>2021-07-01 07:28:04</td>\n",
       "      <td>2021-07-01 07:29:37</td>\n",
       "    </tr>\n",
       "    <tr>\n",
       "      <th>1</th>\n",
       "      <td>391997</td>\n",
       "      <td>6.4316714,3.4555375</td>\n",
       "      <td>6.4280814653326,3.4721885847586</td>\n",
       "      <td>2021-07-01 06:38:04</td>\n",
       "      <td>2021-07-01 07:07:28</td>\n",
       "    </tr>\n",
       "    <tr>\n",
       "      <th>2</th>\n",
       "      <td>391998</td>\n",
       "      <td>6.631679399999999,3.3388976</td>\n",
       "      <td>6.508324099999999,3.3590397</td>\n",
       "      <td>2021-07-01 06:21:02</td>\n",
       "      <td>2021-07-01 07:02:23</td>\n",
       "    </tr>\n",
       "    <tr>\n",
       "      <th>3</th>\n",
       "      <td>391999</td>\n",
       "      <td>6.572757200000001,3.3677082</td>\n",
       "      <td>6.584881099999999,3.3614073</td>\n",
       "      <td>2021-07-01 07:16:07</td>\n",
       "      <td>2021-07-01 07:29:42</td>\n",
       "    </tr>\n",
       "    <tr>\n",
       "      <th>4</th>\n",
       "      <td>392001</td>\n",
       "      <td>6.6010417,3.2766339</td>\n",
       "      <td>6.4501069,3.3916154</td>\n",
       "      <td>2021-07-01 09:30:59</td>\n",
       "      <td>2021-07-01 09:34:36</td>\n",
       "    </tr>\n",
       "  </tbody>\n",
       "</table>\n",
       "</div>"
      ],
      "text/plain": [
       "   Trip ID                         Trip Origin  \\\n",
       "0   391996  6.508813001668548,3.37740316890347   \n",
       "1   391997                 6.4316714,3.4555375   \n",
       "2   391998         6.631679399999999,3.3388976   \n",
       "3   391999         6.572757200000001,3.3677082   \n",
       "4   392001                 6.6010417,3.2766339   \n",
       "\n",
       "                  Trip Destination      Trip Start Time        Trip End Time  \n",
       "0      6.650969799999999,3.3450307  2021-07-01 07:28:04  2021-07-01 07:29:37  \n",
       "1  6.4280814653326,3.4721885847586  2021-07-01 06:38:04  2021-07-01 07:07:28  \n",
       "2      6.508324099999999,3.3590397  2021-07-01 06:21:02  2021-07-01 07:02:23  \n",
       "3      6.584881099999999,3.3614073  2021-07-01 07:16:07  2021-07-01 07:29:42  \n",
       "4              6.4501069,3.3916154  2021-07-01 09:30:59  2021-07-01 09:34:36  "
      ]
     },
     "execution_count": 51,
     "metadata": {},
     "output_type": "execute_result"
    }
   ],
   "source": [
    "df_nb.head(5)"
   ]
  },
  {
   "cell_type": "code",
   "execution_count": 52,
   "id": "f2db1179",
   "metadata": {},
   "outputs": [],
   "source": [
    "util = Util()"
   ]
  },
  {
   "cell_type": "code",
   "execution_count": 53,
   "id": "dc70485e",
   "metadata": {},
   "outputs": [],
   "source": [
    "percent_driver, count_driver = util.get_missing(df_driver_loc)"
   ]
  },
  {
   "cell_type": "code",
   "execution_count": 54,
   "id": "a91e0104",
   "metadata": {},
   "outputs": [
    {
     "name": "stdout",
     "output_type": "stream",
     "text": [
      "id                     0\n",
      "order_id               0\n",
      "driver_id              0\n",
      "driver_action          0\n",
      "lat                    0\n",
      "lng                    0\n",
      "created_at       1557740\n",
      "updated_at       1557740\n",
      "dtype: int64\n"
     ]
    }
   ],
   "source": [
    "print(count_driver)"
   ]
  },
  {
   "cell_type": "markdown",
   "id": "0bde7280",
   "metadata": {},
   "source": [
    "### The created_at and the updated_at columns doesn't have values. So I will drop both columns"
   ]
  },
  {
   "cell_type": "code",
   "execution_count": 55,
   "id": "ea8bc46a",
   "metadata": {},
   "outputs": [],
   "source": [
    "df_driver_loc = util.drop_column(df_driver_loc, \"created_at\")\n",
    "df_driver_loc = util.drop_column(df_driver_loc, \"updated_at\")"
   ]
  },
  {
   "cell_type": "code",
   "execution_count": 56,
   "id": "eddda534",
   "metadata": {},
   "outputs": [],
   "source": [
    "percent_driver, count_driver = util.get_missing(df_driver_loc)"
   ]
  },
  {
   "cell_type": "code",
   "execution_count": 57,
   "id": "ee6058ad",
   "metadata": {},
   "outputs": [
    {
     "name": "stdout",
     "output_type": "stream",
     "text": [
      "id               0\n",
      "order_id         0\n",
      "driver_id        0\n",
      "driver_action    0\n",
      "lat              0\n",
      "lng              0\n",
      "dtype: int64\n"
     ]
    }
   ],
   "source": [
    "print(count_driver)"
   ]
  },
  {
   "cell_type": "code",
   "execution_count": 58,
   "id": "54e542bf",
   "metadata": {},
   "outputs": [],
   "source": [
    "df_nb = df_nb.dropna()\n",
    "percent_nb, count_nb = util.get_missing(df_nb)"
   ]
  },
  {
   "cell_type": "code",
   "execution_count": 59,
   "id": "a9226a2f",
   "metadata": {},
   "outputs": [
    {
     "name": "stdout",
     "output_type": "stream",
     "text": [
      "Trip ID             0\n",
      "Trip Origin         0\n",
      "Trip Destination    0\n",
      "Trip Start Time     0\n",
      "Trip End Time       0\n",
      "dtype: int64\n"
     ]
    }
   ],
   "source": [
    "print(count_nb)"
   ]
  },
  {
   "cell_type": "code",
   "execution_count": 60,
   "id": "7f159395",
   "metadata": {},
   "outputs": [
    {
     "data": {
      "text/plain": [
       "(1557740, 6)"
      ]
     },
     "execution_count": 60,
     "metadata": {},
     "output_type": "execute_result"
    }
   ],
   "source": [
    "df_driver_loc.shape"
   ]
  },
  {
   "cell_type": "code",
   "execution_count": 61,
   "id": "beb0cd4d",
   "metadata": {},
   "outputs": [
    {
     "data": {
      "text/plain": [
       "(534368, 5)"
      ]
     },
     "execution_count": 61,
     "metadata": {},
     "output_type": "execute_result"
    }
   ],
   "source": [
    "df_nb.shape"
   ]
  },
  {
   "cell_type": "code",
   "execution_count": 62,
   "id": "69b062af",
   "metadata": {},
   "outputs": [
    {
     "data": {
      "text/plain": [
       "1213"
      ]
     },
     "execution_count": 62,
     "metadata": {},
     "output_type": "execute_result"
    }
   ],
   "source": [
    "len(df_driver_loc[\"driver_id\"].unique())"
   ]
  },
  {
   "cell_type": "markdown",
   "id": "d71925f5",
   "metadata": {},
   "source": [
    "There are 1213 drivers"
   ]
  },
  {
   "cell_type": "code",
   "execution_count": 63,
   "id": "9acbfaa7",
   "metadata": {},
   "outputs": [],
   "source": [
    "distances = []\n",
    "for i in range(df_nb['Trip Origin'].shape[0]):\n",
    "    try:\n",
    "        start = df_nb['Trip Origin'][i]\n",
    "        end = df_nb['Trip Destination'][i]\n",
    "        start = start.split(',')\n",
    "        end = end.split(',')\n",
    "        distance = util.get_distance(start, end)\n",
    "        distances.append(distance)\n",
    "    except:\n",
    "        distances.append(None)\n",
    "        pass"
   ]
  },
  {
   "cell_type": "code",
   "execution_count": 64,
   "id": "d96e10cc",
   "metadata": {},
   "outputs": [],
   "source": [
    "df_nb['distance'] = distances"
   ]
  },
  {
   "cell_type": "code",
   "execution_count": 65,
   "id": "63627446",
   "metadata": {},
   "outputs": [
    {
     "data": {
      "text/html": [
       "<div>\n",
       "<style scoped>\n",
       "    .dataframe tbody tr th:only-of-type {\n",
       "        vertical-align: middle;\n",
       "    }\n",
       "\n",
       "    .dataframe tbody tr th {\n",
       "        vertical-align: top;\n",
       "    }\n",
       "\n",
       "    .dataframe thead th {\n",
       "        text-align: right;\n",
       "    }\n",
       "</style>\n",
       "<table border=\"1\" class=\"dataframe\">\n",
       "  <thead>\n",
       "    <tr style=\"text-align: right;\">\n",
       "      <th></th>\n",
       "      <th>Trip ID</th>\n",
       "      <th>Trip Origin</th>\n",
       "      <th>Trip Destination</th>\n",
       "      <th>Trip Start Time</th>\n",
       "      <th>Trip End Time</th>\n",
       "      <th>distance</th>\n",
       "    </tr>\n",
       "  </thead>\n",
       "  <tbody>\n",
       "    <tr>\n",
       "      <th>0</th>\n",
       "      <td>391996</td>\n",
       "      <td>6.508813001668548,3.37740316890347</td>\n",
       "      <td>6.650969799999999,3.3450307</td>\n",
       "      <td>2021-07-01 07:28:04</td>\n",
       "      <td>2021-07-01 07:29:37</td>\n",
       "      <td>16.123451</td>\n",
       "    </tr>\n",
       "    <tr>\n",
       "      <th>1</th>\n",
       "      <td>391997</td>\n",
       "      <td>6.4316714,3.4555375</td>\n",
       "      <td>6.4280814653326,3.4721885847586</td>\n",
       "      <td>2021-07-01 06:38:04</td>\n",
       "      <td>2021-07-01 07:07:28</td>\n",
       "      <td>1.884305</td>\n",
       "    </tr>\n",
       "    <tr>\n",
       "      <th>2</th>\n",
       "      <td>391998</td>\n",
       "      <td>6.631679399999999,3.3388976</td>\n",
       "      <td>6.508324099999999,3.3590397</td>\n",
       "      <td>2021-07-01 06:21:02</td>\n",
       "      <td>2021-07-01 07:02:23</td>\n",
       "      <td>13.822393</td>\n",
       "    </tr>\n",
       "    <tr>\n",
       "      <th>3</th>\n",
       "      <td>391999</td>\n",
       "      <td>6.572757200000001,3.3677082</td>\n",
       "      <td>6.584881099999999,3.3614073</td>\n",
       "      <td>2021-07-01 07:16:07</td>\n",
       "      <td>2021-07-01 07:29:42</td>\n",
       "      <td>1.511034</td>\n",
       "    </tr>\n",
       "    <tr>\n",
       "      <th>4</th>\n",
       "      <td>392001</td>\n",
       "      <td>6.6010417,3.2766339</td>\n",
       "      <td>6.4501069,3.3916154</td>\n",
       "      <td>2021-07-01 09:30:59</td>\n",
       "      <td>2021-07-01 09:34:36</td>\n",
       "      <td>20.984319</td>\n",
       "    </tr>\n",
       "  </tbody>\n",
       "</table>\n",
       "</div>"
      ],
      "text/plain": [
       "   Trip ID                         Trip Origin  \\\n",
       "0   391996  6.508813001668548,3.37740316890347   \n",
       "1   391997                 6.4316714,3.4555375   \n",
       "2   391998         6.631679399999999,3.3388976   \n",
       "3   391999         6.572757200000001,3.3677082   \n",
       "4   392001                 6.6010417,3.2766339   \n",
       "\n",
       "                  Trip Destination      Trip Start Time        Trip End Time  \\\n",
       "0      6.650969799999999,3.3450307  2021-07-01 07:28:04  2021-07-01 07:29:37   \n",
       "1  6.4280814653326,3.4721885847586  2021-07-01 06:38:04  2021-07-01 07:07:28   \n",
       "2      6.508324099999999,3.3590397  2021-07-01 06:21:02  2021-07-01 07:02:23   \n",
       "3      6.584881099999999,3.3614073  2021-07-01 07:16:07  2021-07-01 07:29:42   \n",
       "4              6.4501069,3.3916154  2021-07-01 09:30:59  2021-07-01 09:34:36   \n",
       "\n",
       "    distance  \n",
       "0  16.123451  \n",
       "1   1.884305  \n",
       "2  13.822393  \n",
       "3   1.511034  \n",
       "4  20.984319  "
      ]
     },
     "execution_count": 65,
     "metadata": {},
     "output_type": "execute_result"
    }
   ],
   "source": [
    "df_nb.head(5)"
   ]
  },
  {
   "cell_type": "code",
   "execution_count": 66,
   "id": "b8a55d44",
   "metadata": {},
   "outputs": [],
   "source": [
    "merged_df = df_driver_loc.merge(df_nb, how='inner', right_on='Trip ID', left_on='order_id')"
   ]
  },
  {
   "cell_type": "code",
   "execution_count": 67,
   "id": "a9d611d8",
   "metadata": {},
   "outputs": [],
   "source": [
    "percent, count = util.get_missing(merged_df)"
   ]
  },
  {
   "cell_type": "code",
   "execution_count": 68,
   "id": "98d2ce93",
   "metadata": {},
   "outputs": [
    {
     "data": {
      "text/plain": [
       "(1555718, 12)"
      ]
     },
     "execution_count": 68,
     "metadata": {},
     "output_type": "execute_result"
    }
   ],
   "source": [
    "merged_df.shape"
   ]
  },
  {
   "cell_type": "code",
   "execution_count": 69,
   "id": "a11fa07e",
   "metadata": {},
   "outputs": [
    {
     "data": {
      "text/plain": [
       "(534368, 6)"
      ]
     },
     "execution_count": 69,
     "metadata": {},
     "output_type": "execute_result"
    }
   ],
   "source": [
    "df_nb.shape"
   ]
  },
  {
   "cell_type": "code",
   "execution_count": 70,
   "id": "918014af",
   "metadata": {},
   "outputs": [
    {
     "data": {
      "text/plain": [
       "id                     0\n",
       "order_id               0\n",
       "driver_id              0\n",
       "driver_action          0\n",
       "lat                    0\n",
       "lng                    0\n",
       "Trip ID                0\n",
       "Trip Origin            0\n",
       "Trip Destination       0\n",
       "Trip Start Time        0\n",
       "Trip End Time          0\n",
       "distance            2934\n",
       "dtype: int64"
      ]
     },
     "execution_count": 70,
     "metadata": {},
     "output_type": "execute_result"
    }
   ],
   "source": [
    "count"
   ]
  },
  {
   "cell_type": "code",
   "execution_count": 71,
   "id": "ab9f4042",
   "metadata": {},
   "outputs": [],
   "source": [
    "merged_df = merged_df.dropna()"
   ]
  },
  {
   "cell_type": "code",
   "execution_count": 72,
   "id": "e77fed15",
   "metadata": {},
   "outputs": [
    {
     "data": {
      "text/html": [
       "<div>\n",
       "<style scoped>\n",
       "    .dataframe tbody tr th:only-of-type {\n",
       "        vertical-align: middle;\n",
       "    }\n",
       "\n",
       "    .dataframe tbody tr th {\n",
       "        vertical-align: top;\n",
       "    }\n",
       "\n",
       "    .dataframe thead th {\n",
       "        text-align: right;\n",
       "    }\n",
       "</style>\n",
       "<table border=\"1\" class=\"dataframe\">\n",
       "  <thead>\n",
       "    <tr style=\"text-align: right;\">\n",
       "      <th></th>\n",
       "      <th>id</th>\n",
       "      <th>order_id</th>\n",
       "      <th>driver_id</th>\n",
       "      <th>driver_action</th>\n",
       "      <th>lat</th>\n",
       "      <th>lng</th>\n",
       "      <th>Trip ID</th>\n",
       "      <th>Trip Origin</th>\n",
       "      <th>Trip Destination</th>\n",
       "      <th>Trip Start Time</th>\n",
       "      <th>Trip End Time</th>\n",
       "      <th>distance</th>\n",
       "    </tr>\n",
       "  </thead>\n",
       "  <tbody>\n",
       "    <tr>\n",
       "      <th>0</th>\n",
       "      <td>1</td>\n",
       "      <td>392001</td>\n",
       "      <td>243828</td>\n",
       "      <td>accepted</td>\n",
       "      <td>6.602207</td>\n",
       "      <td>3.270465</td>\n",
       "      <td>392001</td>\n",
       "      <td>6.6010417,3.2766339</td>\n",
       "      <td>6.4501069,3.3916154</td>\n",
       "      <td>2021-07-01 09:30:59</td>\n",
       "      <td>2021-07-01 09:34:36</td>\n",
       "      <td>20.984319</td>\n",
       "    </tr>\n",
       "    <tr>\n",
       "      <th>1</th>\n",
       "      <td>2</td>\n",
       "      <td>392001</td>\n",
       "      <td>243588</td>\n",
       "      <td>rejected</td>\n",
       "      <td>6.592097</td>\n",
       "      <td>3.287445</td>\n",
       "      <td>392001</td>\n",
       "      <td>6.6010417,3.2766339</td>\n",
       "      <td>6.4501069,3.3916154</td>\n",
       "      <td>2021-07-01 09:30:59</td>\n",
       "      <td>2021-07-01 09:34:36</td>\n",
       "      <td>20.984319</td>\n",
       "    </tr>\n",
       "    <tr>\n",
       "      <th>2</th>\n",
       "      <td>3</td>\n",
       "      <td>392001</td>\n",
       "      <td>243830</td>\n",
       "      <td>rejected</td>\n",
       "      <td>6.596133</td>\n",
       "      <td>3.281784</td>\n",
       "      <td>392001</td>\n",
       "      <td>6.6010417,3.2766339</td>\n",
       "      <td>6.4501069,3.3916154</td>\n",
       "      <td>2021-07-01 09:30:59</td>\n",
       "      <td>2021-07-01 09:34:36</td>\n",
       "      <td>20.984319</td>\n",
       "    </tr>\n",
       "    <tr>\n",
       "      <th>3</th>\n",
       "      <td>4</td>\n",
       "      <td>392001</td>\n",
       "      <td>243539</td>\n",
       "      <td>rejected</td>\n",
       "      <td>6.596142</td>\n",
       "      <td>3.280526</td>\n",
       "      <td>392001</td>\n",
       "      <td>6.6010417,3.2766339</td>\n",
       "      <td>6.4501069,3.3916154</td>\n",
       "      <td>2021-07-01 09:30:59</td>\n",
       "      <td>2021-07-01 09:34:36</td>\n",
       "      <td>20.984319</td>\n",
       "    </tr>\n",
       "    <tr>\n",
       "      <th>4</th>\n",
       "      <td>5</td>\n",
       "      <td>392001</td>\n",
       "      <td>171653</td>\n",
       "      <td>rejected</td>\n",
       "      <td>6.609232</td>\n",
       "      <td>3.288800</td>\n",
       "      <td>392001</td>\n",
       "      <td>6.6010417,3.2766339</td>\n",
       "      <td>6.4501069,3.3916154</td>\n",
       "      <td>2021-07-01 09:30:59</td>\n",
       "      <td>2021-07-01 09:34:36</td>\n",
       "      <td>20.984319</td>\n",
       "    </tr>\n",
       "  </tbody>\n",
       "</table>\n",
       "</div>"
      ],
      "text/plain": [
       "   id  order_id  driver_id driver_action       lat       lng  Trip ID  \\\n",
       "0   1    392001     243828      accepted  6.602207  3.270465   392001   \n",
       "1   2    392001     243588      rejected  6.592097  3.287445   392001   \n",
       "2   3    392001     243830      rejected  6.596133  3.281784   392001   \n",
       "3   4    392001     243539      rejected  6.596142  3.280526   392001   \n",
       "4   5    392001     171653      rejected  6.609232  3.288800   392001   \n",
       "\n",
       "           Trip Origin     Trip Destination      Trip Start Time  \\\n",
       "0  6.6010417,3.2766339  6.4501069,3.3916154  2021-07-01 09:30:59   \n",
       "1  6.6010417,3.2766339  6.4501069,3.3916154  2021-07-01 09:30:59   \n",
       "2  6.6010417,3.2766339  6.4501069,3.3916154  2021-07-01 09:30:59   \n",
       "3  6.6010417,3.2766339  6.4501069,3.3916154  2021-07-01 09:30:59   \n",
       "4  6.6010417,3.2766339  6.4501069,3.3916154  2021-07-01 09:30:59   \n",
       "\n",
       "         Trip End Time   distance  \n",
       "0  2021-07-01 09:34:36  20.984319  \n",
       "1  2021-07-01 09:34:36  20.984319  \n",
       "2  2021-07-01 09:34:36  20.984319  \n",
       "3  2021-07-01 09:34:36  20.984319  \n",
       "4  2021-07-01 09:34:36  20.984319  "
      ]
     },
     "execution_count": 72,
     "metadata": {},
     "output_type": "execute_result"
    }
   ],
   "source": [
    "merged_df.head(5)"
   ]
  },
  {
   "cell_type": "code",
   "execution_count": 73,
   "id": "dac76941",
   "metadata": {},
   "outputs": [
    {
     "data": {
      "text/plain": [
       "id                  0\n",
       "order_id            0\n",
       "driver_id           0\n",
       "driver_action       0\n",
       "lat                 0\n",
       "lng                 0\n",
       "Trip ID             0\n",
       "Trip Origin         0\n",
       "Trip Destination    0\n",
       "Trip Start Time     0\n",
       "Trip End Time       0\n",
       "distance            0\n",
       "dtype: int64"
      ]
     },
     "execution_count": 73,
     "metadata": {},
     "output_type": "execute_result"
    }
   ],
   "source": [
    "percent, count = util.get_missing(merged_df)\n",
    "count"
   ]
  },
  {
   "cell_type": "code",
   "execution_count": 74,
   "id": "2471ff4b",
   "metadata": {},
   "outputs": [],
   "source": [
    "merged_df.to_csv('../data/merged.csv')"
   ]
  },
  {
   "cell_type": "code",
   "execution_count": 75,
   "id": "ffd272ab",
   "metadata": {},
   "outputs": [
    {
     "data": {
      "text/plain": [
       "<AxesSubplot: >"
      ]
     },
     "execution_count": 75,
     "metadata": {},
     "output_type": "execute_result"
    },
    {
     "data": {
      "image/png": "[encoded data removed]",
      "text/plain": [
       "<Figure size 640x480 with 1 Axes>"
      ]
     },
     "metadata": {},
     "output_type": "display_data"
    }
   ],
   "source": [
    "import pandas as pd\n",
    "accepted = merged_df[merged_df['driver_action'] == \"accepted\"]\n",
    "rejected = merged_df[merged_df['driver_action'] == \"rejected\"]\n",
    "pd.Series([accepted.shape[0], rejected.shape[0]], index=[\"Accepted\", \"Rejected\"]).plot(kind=\"bar\")"
   ]
  },
  {
   "cell_type": "markdown",
   "id": "09eb9600",
   "metadata": {},
   "source": [
    "#### From the graph above we can see that the number of rejections are not even comparable with the accepted orders. The rejection orders are much bigger than the accepted orders."
   ]
  },
  {
   "cell_type": "code",
   "execution_count": 76,
   "id": "fac91091",
   "metadata": {},
   "outputs": [],
   "source": [
    "years = []\n",
    "months = []\n",
    "days = []\n",
    "times = []\n",
    "for i in range(df_nb['Trip Start Time'].shape[0]):\n",
    "    try:\n",
    "        date = df_nb['Trip Start Time'][i]\n",
    "        year, month, day, time = util.split_date(date)\n",
    "        years.append(year)\n",
    "        months.append(month)\n",
    "        days.append(day)\n",
    "        times.append(time)\n",
    "    except:\n",
    "        years.append(None)\n",
    "        months.append(None)\n",
    "        days.append(None)\n",
    "        times.append(None)"
   ]
  },
  {
   "cell_type": "code",
   "execution_count": 77,
   "id": "6f0b7198",
   "metadata": {},
   "outputs": [],
   "source": [
    "#df_nb = df_nb.dropna()"
   ]
  },
  {
   "cell_type": "code",
   "execution_count": 78,
   "id": "67e64b11",
   "metadata": {},
   "outputs": [],
   "source": [
    "hours = []\n",
    "minutes = []\n",
    "seconds = []\n",
    "for i in range(len(times)):\n",
    "    try:\n",
    "        hour, minute, second = util.split_time(times[i])\n",
    "    except:\n",
    "        hour, minute, second = None, None, None\n",
    "    hours.append(hour)\n",
    "    minutes.append(minute)\n",
    "    seconds.append(second)"
   ]
  },
  {
   "cell_type": "code",
   "execution_count": 79,
   "id": "606e5e11",
   "metadata": {},
   "outputs": [],
   "source": [
    "df_nb['year'] = years\n",
    "df_nb['month'] = months\n",
    "df_nb['day'] = days\n",
    "df_nb['hour'] = hours"
   ]
  },
  {
   "cell_type": "code",
   "execution_count": 80,
   "id": "177c52d4",
   "metadata": {},
   "outputs": [],
   "source": [
    "merged_df = df_driver_loc.merge(df_nb, how='inner', right_on='Trip ID', left_on='order_id')\n",
    "merged_df = merged_df.dropna()"
   ]
  },
  {
   "cell_type": "code",
   "execution_count": 81,
   "id": "5d711ac1",
   "metadata": {},
   "outputs": [
    {
     "data": {
      "text/html": [
       "<div>\n",
       "<style scoped>\n",
       "    .dataframe tbody tr th:only-of-type {\n",
       "        vertical-align: middle;\n",
       "    }\n",
       "\n",
       "    .dataframe tbody tr th {\n",
       "        vertical-align: top;\n",
       "    }\n",
       "\n",
       "    .dataframe thead th {\n",
       "        text-align: right;\n",
       "    }\n",
       "</style>\n",
       "<table border=\"1\" class=\"dataframe\">\n",
       "  <thead>\n",
       "    <tr style=\"text-align: right;\">\n",
       "      <th></th>\n",
       "      <th>id</th>\n",
       "      <th>order_id</th>\n",
       "      <th>driver_id</th>\n",
       "      <th>driver_action</th>\n",
       "      <th>lat</th>\n",
       "      <th>lng</th>\n",
       "      <th>Trip ID</th>\n",
       "      <th>Trip Origin</th>\n",
       "      <th>Trip Destination</th>\n",
       "      <th>Trip Start Time</th>\n",
       "      <th>Trip End Time</th>\n",
       "      <th>distance</th>\n",
       "      <th>year</th>\n",
       "      <th>month</th>\n",
       "      <th>day</th>\n",
       "      <th>hour</th>\n",
       "    </tr>\n",
       "  </thead>\n",
       "  <tbody>\n",
       "    <tr>\n",
       "      <th>0</th>\n",
       "      <td>1</td>\n",
       "      <td>392001</td>\n",
       "      <td>243828</td>\n",
       "      <td>accepted</td>\n",
       "      <td>6.602207</td>\n",
       "      <td>3.270465</td>\n",
       "      <td>392001</td>\n",
       "      <td>6.6010417,3.2766339</td>\n",
       "      <td>6.4501069,3.3916154</td>\n",
       "      <td>2021-07-01 09:30:59</td>\n",
       "      <td>2021-07-01 09:34:36</td>\n",
       "      <td>20.984319</td>\n",
       "      <td>2021</td>\n",
       "      <td>07</td>\n",
       "      <td>01</td>\n",
       "      <td>09</td>\n",
       "    </tr>\n",
       "    <tr>\n",
       "      <th>1</th>\n",
       "      <td>2</td>\n",
       "      <td>392001</td>\n",
       "      <td>243588</td>\n",
       "      <td>rejected</td>\n",
       "      <td>6.592097</td>\n",
       "      <td>3.287445</td>\n",
       "      <td>392001</td>\n",
       "      <td>6.6010417,3.2766339</td>\n",
       "      <td>6.4501069,3.3916154</td>\n",
       "      <td>2021-07-01 09:30:59</td>\n",
       "      <td>2021-07-01 09:34:36</td>\n",
       "      <td>20.984319</td>\n",
       "      <td>2021</td>\n",
       "      <td>07</td>\n",
       "      <td>01</td>\n",
       "      <td>09</td>\n",
       "    </tr>\n",
       "    <tr>\n",
       "      <th>2</th>\n",
       "      <td>3</td>\n",
       "      <td>392001</td>\n",
       "      <td>243830</td>\n",
       "      <td>rejected</td>\n",
       "      <td>6.596133</td>\n",
       "      <td>3.281784</td>\n",
       "      <td>392001</td>\n",
       "      <td>6.6010417,3.2766339</td>\n",
       "      <td>6.4501069,3.3916154</td>\n",
       "      <td>2021-07-01 09:30:59</td>\n",
       "      <td>2021-07-01 09:34:36</td>\n",
       "      <td>20.984319</td>\n",
       "      <td>2021</td>\n",
       "      <td>07</td>\n",
       "      <td>01</td>\n",
       "      <td>09</td>\n",
       "    </tr>\n",
       "    <tr>\n",
       "      <th>3</th>\n",
       "      <td>4</td>\n",
       "      <td>392001</td>\n",
       "      <td>243539</td>\n",
       "      <td>rejected</td>\n",
       "      <td>6.596142</td>\n",
       "      <td>3.280526</td>\n",
       "      <td>392001</td>\n",
       "      <td>6.6010417,3.2766339</td>\n",
       "      <td>6.4501069,3.3916154</td>\n",
       "      <td>2021-07-01 09:30:59</td>\n",
       "      <td>2021-07-01 09:34:36</td>\n",
       "      <td>20.984319</td>\n",
       "      <td>2021</td>\n",
       "      <td>07</td>\n",
       "      <td>01</td>\n",
       "      <td>09</td>\n",
       "    </tr>\n",
       "    <tr>\n",
       "      <th>4</th>\n",
       "      <td>5</td>\n",
       "      <td>392001</td>\n",
       "      <td>171653</td>\n",
       "      <td>rejected</td>\n",
       "      <td>6.609232</td>\n",
       "      <td>3.288800</td>\n",
       "      <td>392001</td>\n",
       "      <td>6.6010417,3.2766339</td>\n",
       "      <td>6.4501069,3.3916154</td>\n",
       "      <td>2021-07-01 09:30:59</td>\n",
       "      <td>2021-07-01 09:34:36</td>\n",
       "      <td>20.984319</td>\n",
       "      <td>2021</td>\n",
       "      <td>07</td>\n",
       "      <td>01</td>\n",
       "      <td>09</td>\n",
       "    </tr>\n",
       "  </tbody>\n",
       "</table>\n",
       "</div>"
      ],
      "text/plain": [
       "   id  order_id  driver_id driver_action       lat       lng  Trip ID  \\\n",
       "0   1    392001     243828      accepted  6.602207  3.270465   392001   \n",
       "1   2    392001     243588      rejected  6.592097  3.287445   392001   \n",
       "2   3    392001     243830      rejected  6.596133  3.281784   392001   \n",
       "3   4    392001     243539      rejected  6.596142  3.280526   392001   \n",
       "4   5    392001     171653      rejected  6.609232  3.288800   392001   \n",
       "\n",
       "           Trip Origin     Trip Destination      Trip Start Time  \\\n",
       "0  6.6010417,3.2766339  6.4501069,3.3916154  2021-07-01 09:30:59   \n",
       "1  6.6010417,3.2766339  6.4501069,3.3916154  2021-07-01 09:30:59   \n",
       "2  6.6010417,3.2766339  6.4501069,3.3916154  2021-07-01 09:30:59   \n",
       "3  6.6010417,3.2766339  6.4501069,3.3916154  2021-07-01 09:30:59   \n",
       "4  6.6010417,3.2766339  6.4501069,3.3916154  2021-07-01 09:30:59   \n",
       "\n",
       "         Trip End Time   distance  year month day hour  \n",
       "0  2021-07-01 09:34:36  20.984319  2021    07  01   09  \n",
       "1  2021-07-01 09:34:36  20.984319  2021    07  01   09  \n",
       "2  2021-07-01 09:34:36  20.984319  2021    07  01   09  \n",
       "3  2021-07-01 09:34:36  20.984319  2021    07  01   09  \n",
       "4  2021-07-01 09:34:36  20.984319  2021    07  01   09  "
      ]
     },
     "execution_count": 81,
     "metadata": {},
     "output_type": "execute_result"
    }
   ],
   "source": [
    "merged_df.head(5)"
   ]
  },
  {
   "cell_type": "code",
   "execution_count": 82,
   "id": "8867501d",
   "metadata": {},
   "outputs": [],
   "source": [
    "groupby_month = merged_df.groupby('month')"
   ]
  },
  {
   "cell_type": "code",
   "execution_count": 83,
   "id": "df4330d9",
   "metadata": {
    "scrolled": true
   },
   "outputs": [],
   "source": [
    "accepted = merged_df[merged_df['driver_action'] == \"accepted\"]\n",
    "rejected = merged_df[merged_df['driver_action'] == \"rejected\"]"
   ]
  },
  {
   "cell_type": "code",
   "execution_count": 84,
   "id": "a83150ca",
   "metadata": {},
   "outputs": [],
   "source": [
    "accepted_groupby_month = accepted.groupby('month').count()\n",
    "rejected_groupby_month = rejected.groupby('month').count()"
   ]
  },
  {
   "cell_type": "code",
   "execution_count": 85,
   "id": "8890e7c0",
   "metadata": {},
   "outputs": [
    {
     "data": {
      "text/plain": [
       "<AxesSubplot: xlabel='month'>"
      ]
     },
     "execution_count": 85,
     "metadata": {},
     "output_type": "execute_result"
    },
    {
     "data": {
      "image/png": "[encoded data removed]",
      "text/plain": [
       "<Figure size 640x480 with 1 Axes>"
      ]
     },
     "metadata": {},
     "output_type": "display_data"
    }
   ],
   "source": [
    "accepted_groupby_month['id'].plot(kind=\"bar\")"
   ]
  },
  {
   "cell_type": "code",
   "execution_count": 86,
   "id": "3bd97477",
   "metadata": {
    "scrolled": false
   },
   "outputs": [
    {
     "data": {
      "text/plain": [
       "<AxesSubplot: xlabel='month'>"
      ]
     },
     "execution_count": 86,
     "metadata": {},
     "output_type": "execute_result"
    },
    {
     "data": {
      "image/png": "[encoded data removed]",
      "text/plain": [
       "<Figure size 640x480 with 1 Axes>"
      ]
     },
     "metadata": {},
     "output_type": "display_data"
    }
   ],
   "source": [
    "rejected_groupby_month['id'].plot(kind=\"bar\")"
   ]
  },
  {
   "cell_type": "code",
   "execution_count": 87,
   "id": "98e3de79",
   "metadata": {},
   "outputs": [],
   "source": [
    "accepted_groupby_hour = accepted.groupby('hour').count()\n",
    "rejected_groupby_hour = rejected.groupby('hour').count()"
   ]
  },
  {
   "cell_type": "code",
   "execution_count": 88,
   "id": "27aeb373",
   "metadata": {},
   "outputs": [
    {
     "data": {
      "text/plain": [
       "<AxesSubplot: xlabel='hour'>"
      ]
     },
     "execution_count": 88,
     "metadata": {},
     "output_type": "execute_result"
    },
    {
     "data": {
      "image/png": "[encoded data removed]",
      "text/plain": [
       "<Figure size 640x480 with 1 Axes>"
      ]
     },
     "metadata": {},
     "output_type": "display_data"
    }
   ],
   "source": [
    "rejected_groupby_hour['id'].plot(kind=\"bar\")"
   ]
  },
  {
   "cell_type": "code",
   "execution_count": 89,
   "id": "521adde8",
   "metadata": {},
   "outputs": [
    {
     "data": {
      "text/plain": [
       "<AxesSubplot: xlabel='hour'>"
      ]
     },
     "execution_count": 89,
     "metadata": {},
     "output_type": "execute_result"
    },
    {
     "data": {
      "image/png": "[encoded data removed]",
      "text/plain": [
       "<Figure size 640x480 with 1 Axes>"
      ]
     },
     "metadata": {},
     "output_type": "display_data"
    }
   ],
   "source": [
    "accepted_groupby_hour['id'].plot(kind=\"bar\")"
   ]
  },
  {
   "cell_type": "code",
   "execution_count": 90,
   "id": "36a9daea",
   "metadata": {},
   "outputs": [],
   "source": [
    "merged_df.to_csv('../data/merged_final.csv')"
   ]
  },
  {
   "cell_type": "code",
   "execution_count": null,
   "id": "075aff8e",
   "metadata": {},
   "outputs": [],
   "source": []
  }
 ],
 "metadata": {
  "kernelspec": {
   "display_name": "Python 3 (ipykernel)",
   "language": "python",
   "name": "python3"
  },
  "language_info": {
   "codemirror_mode": {
    "name": "ipython",
    "version": 3
   },
   "file_extension": ".py",
   "mimetype": "text/x-python",
   "name": "python",
   "nbconvert_exporter": "python",
   "pygments_lexer": "ipython3",
   "version": "3.8.13"
  }
 },
 "nbformat": 4,
 "nbformat_minor": 5
}
